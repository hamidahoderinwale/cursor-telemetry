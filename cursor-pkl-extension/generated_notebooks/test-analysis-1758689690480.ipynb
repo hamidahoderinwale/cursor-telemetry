{
  "cells": [
    {
      "cell_type": "markdown",
      "metadata": {},
      "source": [
        "# Test Analysis\n",
        "\n",
        "**Generated**: 2025-09-24T04:54:50.477Z\n",
        "**Sessions analyzed**: 2\n",
        "**Template**: eda\n",
        "\n",
        "This notebook was automatically generated from PKL Extension session analysis.\n"
      ]
    },
    {
      "cell_type": "code",
      "execution_count": null,
      "metadata": {},
      "outputs": [],
      "source": [
        "# Import required libraries\n",
        "import pandas as pd\n",
        "import numpy as np\n",
        "import matplotlib.pyplot as plt\n",
        "import seaborn as sns\n",
        "\n",
        "# Set up plotting\n",
        "plt.style.use(\"default\")\n",
        "sns.set_palette(\"husl\")\n"
      ]
    },
    {
      "cell_type": "markdown",
      "metadata": {},
      "source": [
        "## Session Analysis\n",
        "\n",
        "Analysis of 2 sessions from PKL Extension.\n"
      ]
    }
  ],
  "metadata": {
    "kernelspec": {
      "display_name": "Python 3",
      "language": "python",
      "name": "python3"
    },
    "language_info": {
      "name": "python",
      "version": "3.8.0"
    }
  },
  "nbformat": 4,
  "nbformat_minor": 4
}