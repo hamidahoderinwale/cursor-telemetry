{
  "cells": [
    {
      "cell_type": "code",
      "execution_count": null,
      "metadata": {},
      "outputs": [],
      "source": [
        "import matplotlib.pyplot as plt\n",
        "import numpy as np\n",
        "\n",
        "# Create sample data\n",
        "x = np.random.randn(100)\n",
        "y = 2 * x + np.random.randn(100) * 0.5\n",
        "\n",
        "# Create a simple scatter plot\n",
        "plt.figure(figsize=(6, 4))\n",
        "plt.scatter(x, y, alpha=0.7)\n",
        "plt.xlabel('X values')\n",
        "plt.ylabel('Y values')\n",
        "plt.title('Sample Scatter Plot')\n",
        "plt.grid(True, alpha=0.3)\n",
        "plt.show()\n"
      ]
    }
  ],
  "metadata": {
    "language_info": {
      "name": "python"
    }
  },
  "nbformat": 4,
  "nbformat_minor": 2
}
