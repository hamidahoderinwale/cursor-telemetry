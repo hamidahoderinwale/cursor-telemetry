{
  "cells": [
    {
      "cell_type": "markdown",
      "metadata": {},
      "source": [
        "# Data Analysis Session\n",
        "This notebook demonstrates real-time monitoring of Cursor PKL Extension\n"
      ]
    },
    {
      "cell_type": "code",
      "execution_count": null,
      "metadata": {},
      "outputs": [],
      "source": [
        "import pandas as pd\n",
        "import numpy as np\n",
        "import matplotlib.pyplot as plt\n",
        "\n",
        "print(\"Starting data analysis session...\")\n"
      ]
    },
    {
      "cell_type": "markdown",
      "metadata": {},
      "source": [
        "## User: I need to analyze this dataset and create visualizations\n",
        "\n",
        "Can you help me explore the data structure and identify patterns?\n"
      ]
    },
    {
      "cell_type": "code",
      "execution_count": null,
      "metadata": {},
      "outputs": [],
      "source": [
        "\n"
      ]
    },
    {
      "cell_type": "code",
      "execution_count": null,
      "metadata": {},
      "outputs": [],
      "source": [
        "# Load the dataset\n",
        "data = pd.DataFrame({\n",
        "    'x': np.random.randn(100),\n",
        "    'y': np.random.randn(100),\n",
        "    'value': np.random.randn(100)\n",
        "})\n",
        "\n",
        "print(\"Dataset shape:\", data.shape)\n",
        "print(\"Data types:\")\n",
        "print(data.dtypes)\n",
        "print(\"\\nBasic statistics:\")\n",
        "print(data.describe())\n"
      ]
    },
    {
      "cell_type": "markdown",
      "metadata": {},
      "source": [
        "## Assistant: I'll help you analyze the dataset!\n",
        "\n",
        "Let me start by examining the data structure and creating some exploratory visualizations. First, let's look at the basic statistics and data types.\n"
      ]
    },
    {
      "cell_type": "code",
      "execution_count": null,
      "metadata": {},
      "outputs": [],
      "source": [
        "# Create comprehensive visualization suite with grayscale palette\n",
        "plt.figure(figsize=(12, 8))\n",
        "\n",
        "# Scatter plot\n",
        "plt.subplot(3, 2, 1)\n",
        "plt.scatter(data['x'], data['y'], c=data['value'], cmap='gray', alpha=0.7)\n",
        "plt.xlabel('X values')\n",
        "plt.ylabel('Y values')\n",
        "plt.title('Scatter Plot: X vs Y')\n",
        "plt.colorbar(label='Value')\n",
        "\n",
        "# Histogram\n",
        "plt.subplot(3, 2, 2)\n",
        "plt.hist(data['x'], bins=20, alpha=0.7, color='gray')\n",
        "plt.xlabel('X values')\n",
        "plt.ylabel('Frequency')\n",
        "plt.title('Distribution of X values')\n",
        "\n",
        "# Time series (simulated)\n",
        "plt.subplot(3, 2, 3)\n",
        "time_series = np.cumsum(np.random.randn(100))\n",
        "plt.plot(time_series, color='black', linewidth=1.5)\n",
        "plt.xlabel('Time')\n",
        "plt.ylabel('Value')\n",
        "plt.title('Time Series')\n",
        "\n",
        "# Correlation heatmap\n",
        "plt.subplot(3, 2, 5)\n",
        "correlation_matrix = data.corr()\n",
        "plt.imshow(correlation_matrix, cmap='gray', aspect='auto')\n",
        "plt.colorbar()\n",
        "plt.title('Correlation Matrix')\n",
        "\n",
        "plt.tight_layout()\n",
        "plt.show()\n"
      ]
    },
    {
      "cell_type": "markdown",
      "metadata": {},
      "source": [
        "## User: Can you add some advanced visualizations for this data?\n",
        "\n",
        "I'd like to see some more sophisticated plots that show the relationships between variables and help identify patterns.\n"
      ]
    },
    {
      "cell_type": "code",
      "execution_count": null,
      "metadata": {},
      "outputs": [],
      "source": [
        "# Advanced visualizations for deeper data insights\n",
        "import seaborn as sns\n",
        "from scipy import stats\n",
        "import plotly.express as px\n",
        "import plotly.graph_objects as go\n",
        "from plotly.subplots import make_subplots\n",
        "\n",
        "# Set style for better-looking plots with grayscale palette\n",
        "plt.style.use('seaborn-v0_8')\n",
        "sns.set_palette(\"gray\")  # Use grayscale palette\n",
        "\n",
        "print(\"Creating advanced visualizations with grayscale palette...\")\n"
      ]
    },
    {
      "cell_type": "code",
      "execution_count": null,
      "metadata": {},
      "outputs": [],
      "source": [
        "# 1. Pairwise relationships with regression lines (grayscale)\n",
        "fig, axes = plt.subplots(2, 2, figsize=(15, 12))\n",
        "\n",
        "# Scatter plot with regression line\n",
        "sns.scatterplot(data=data, x='x', y='y', hue='value', ax=axes[0,0], palette='gray')\n",
        "sns.regplot(data=data, x='x', y='y', ax=axes[0,0], scatter=False, color='black')\n",
        "axes[0,0].set_title('X vs Y with Regression Line')\n",
        "\n",
        "# Distribution plots\n",
        "sns.histplot(data=data, x='x', kde=True, ax=axes[0,1], color='gray', alpha=0.7)\n",
        "axes[0,1].set_title('Distribution of X values')\n",
        "\n",
        "sns.histplot(data=data, x='y', kde=True, ax=axes[1,0], color='gray', alpha=0.7)\n",
        "axes[1,0].set_title('Distribution of Y values')\n",
        "\n",
        "# Box plot for value distribution\n",
        "sns.boxplot(data=data, y='value', ax=axes[1,1], color='gray')\n",
        "axes[1,1].set_title('Value Distribution')\n",
        "\n",
        "plt.tight_layout()\n",
        "plt.show()\n"
      ]
    },
    {
      "cell_type": "code",
      "execution_count": null,
      "metadata": {},
      "outputs": [],
      "source": [
        "# 2. Interactive 3D scatter plot with Plotly (grayscale)\n",
        "fig_3d = px.scatter_3d(data, x='x', y='y', z='value', \n",
        "                       color='value', \n",
        "                       title='3D Interactive Scatter Plot (Grayscale)',\n",
        "                       labels={'x': 'X Values', 'y': 'Y Values', 'value': 'Z Values'},\n",
        "                       color_continuous_scale='gray')\n",
        "\n",
        "# Add trend surface\n",
        "fig_3d.update_layout(\n",
        "    scene=dict(\n",
        "        xaxis_title='X Values',\n",
        "        yaxis_title='Y Values', \n",
        "        zaxis_title='Value'\n",
        "    ),\n",
        "    width=800,\n",
        "    height=600\n",
        ")\n",
        "\n",
        "fig_3d.show()\n"
      ]
    },
    {
      "cell_type": "code",
      "execution_count": null,
      "metadata": {},
      "outputs": [],
      "source": [
        "# 3. Statistical analysis and correlation heatmap (grayscale)\n",
        "fig, axes = plt.subplots(2, 2, figsize=(16, 12))\n",
        "\n",
        "# Correlation heatmap\n",
        "correlation_matrix = data.corr()\n",
        "sns.heatmap(correlation_matrix, annot=True, cmap='gray', center=0, ax=axes[0,0])\n",
        "axes[0,0].set_title('Correlation Heatmap')\n",
        "\n",
        "# Q-Q plots for normality testing\n",
        "stats.probplot(data['x'], dist=\"norm\", plot=axes[0,1])\n",
        "axes[0,1].get_lines()[0].set_color('black')  # Set line color to black\n",
        "axes[0,1].get_lines()[1].set_color('gray')   # Set reference line to gray\n",
        "axes[0,1].set_title('Q-Q Plot: X values')\n",
        "\n",
        "stats.probplot(data['y'], dist=\"norm\", plot=axes[1,0])\n",
        "axes[1,0].get_lines()[0].set_color('black')  # Set line color to black\n",
        "axes[1,0].get_lines()[1].set_color('gray')   # Set reference line to gray\n",
        "axes[1,0].set_title('Q-Q Plot: Y values')\n",
        "\n",
        "# Violin plot for distribution comparison\n",
        "data_melted = data.melt(value_vars=['x', 'y', 'value'])\n",
        "sns.violinplot(data=data_melted, x='variable', y='value', ax=axes[1,1], color='gray')\n",
        "axes[1,1].set_title('Distribution Comparison')\n",
        "\n",
        "plt.tight_layout()\n",
        "plt.show()\n"
      ]
    },
    {
      "cell_type": "code",
      "execution_count": null,
      "metadata": {},
      "outputs": [],
      "source": [
        "# 4. Advanced statistical summary\n",
        "print(\"=== ADVANCED STATISTICAL ANALYSIS ===\")\n",
        "print(f\"Dataset shape: {data.shape}\")\n",
        "print(f\"Memory usage: {data.memory_usage(deep=True).sum() / 1024:.2f} KB\")\n",
        "print()\n",
        "\n",
        "# Descriptive statistics\n",
        "print(\"Descriptive Statistics:\")\n",
        "print(data.describe())\n",
        "print()\n",
        "\n",
        "# Normality tests\n",
        "from scipy.stats import shapiro, normaltest\n",
        "\n",
        "print(\"Normality Tests:\")\n",
        "for col in ['x', 'y', 'value']:\n",
        "    stat, p_value = shapiro(data[col])\n",
        "    print(f\"{col}: Shapiro-Wilk test - statistic={stat:.4f}, p-value={p_value:.4f}\")\n",
        "    if p_value > 0.05:\n",
        "        print(f\"  → {col} appears to be normally distributed\")\n",
        "    else:\n",
        "        print(f\"  → {col} does not appear to be normally distributed\")\n",
        "print()\n",
        "\n",
        "# Correlation analysis\n",
        "print(\"Correlation Analysis:\")\n",
        "corr_matrix = data.corr()\n",
        "for i in range(len(corr_matrix.columns)):\n",
        "    for j in range(i+1, len(corr_matrix.columns)):\n",
        "        col1, col2 = corr_matrix.columns[i], corr_matrix.columns[j]\n",
        "        corr_val = corr_matrix.loc[col1, col2]\n",
        "        print(f\"{col1} vs {col2}: {corr_val:.4f}\")\n",
        "print()\n",
        "\n",
        "# Outlier detection using IQR method\n",
        "print(\"Outlier Detection (IQR method):\")\n",
        "for col in ['x', 'y', 'value']:\n",
        "    Q1 = data[col].quantile(0.25)\n",
        "    Q3 = data[col].quantile(0.75)\n",
        "    IQR = Q3 - Q1\n",
        "    lower_bound = Q1 - 1.5 * IQR\n",
        "    upper_bound = Q3 + 1.5 * IQR\n",
        "    outliers = data[(data[col] < lower_bound) | (data[col] > upper_bound)]\n",
        "    print(f\"{col}: {len(outliers)} outliers out of {len(data)} points ({len(outliers)/len(data)*100:.1f}%)\")\n"
      ]
    },
    {
      "cell_type": "markdown",
      "metadata": {},
      "source": [
        "## Assistant: I've added comprehensive visualizations for your data!\n",
        "\n",
        "Here's what I've created:\n",
        "\n",
        "1. **Pairwise Relationships**: Scatter plots with regression lines and distribution plots\n",
        "2. **Interactive 3D Visualization**: 3D scatter plot using Plotly for exploring data in three dimensions  \n",
        "3. **Statistical Analysis**: Correlation heatmaps, Q-Q plots for normality testing, and violin plots\n",
        "4. **Advanced Statistics**: Comprehensive statistical summary including normality tests and outlier detection\n",
        "\n",
        "These visualizations will help you:\n",
        "- Identify relationships between variables\n",
        "- Check data distribution and normality\n",
        "- Detect outliers and anomalies\n",
        "- Understand correlation patterns\n",
        "- Explore data interactively in 3D space\n"
      ]
    },
    {
      "cell_type": "markdown",
      "metadata": {},
      "source": []
    },
    {
      "cell_type": "markdown",
      "metadata": {},
      "source": [
        "/"
      ]
    },
    {
      "cell_type": "markdown",
      "metadata": {},
      "source": [
        "e I"
      ]
    },
    {
      "cell_type": "code",
      "execution_count": null,
      "metadata": {},
      "outputs": [],
      "source": []
    }
  ],
  "metadata": {
    "language_info": {
      "name": "python"
    }
  },
  "nbformat": 4,
  "nbformat_minor": 2
}
